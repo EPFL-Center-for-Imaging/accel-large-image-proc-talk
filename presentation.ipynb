{
 "cells": [
  {
   "cell_type": "markdown",
   "metadata": {
    "slideshow": {
     "slide_type": "slide"
    }
   },
   "source": [
    "<center>\n",
    "    \n",
    "# Accelerating large image processing in `Python`\n",
    "    \n",
    "### Joan Rue Queralt\n",
    "\n",
    " \n",
    "   \n",
    "#### Matthieu Simeoni, Sepand Kashani, Thomas Debarre, Daniele Hamm and Salim Najib\n",
    "   \n",
    "</center>\n",
    "\n",
    "    \n",
    "<img src=\"imgs/EPFL_Unités_Center-for-imaging.png\" alt=\"epfl logo\" width=\"500\"/>\n",
    "  "
   ]
  },
  {
   "cell_type": "markdown",
   "metadata": {
    "slideshow": {
     "slide_type": "slide"
    }
   },
   "source": [
    "## This talk relevant is relevant if \n",
    "\n",
    "1) .. you're using `numpy` for *image processing\\** and are running out of **RAM**.\n",
    "\n",
    "2) .. you're using `numpy` for *image processing\\**  and are running out of **time**.\n",
    "\n",
    "\\* *nd-kernel filtering - nd-differential operators - nd-Fourier - nd-morph - nd-measure*\n",
    "\n",
    "### Two main use cases\n",
    "\n",
    "1. Large number of samples (batch processing)\n",
    "2. Large field of view (chunk processing)"
   ]
  },
  {
   "cell_type": "markdown",
   "metadata": {
    "slideshow": {
     "slide_type": "slide"
    }
   },
   "source": [
    "# Two approaches to write scientific or numeric software:\n",
    "\n",
    "- Traditionally, scripting everything on **C** or **C++**, then writting **Python** wrappers as user-friendly interface with code (*bottom-up*).\n",
    "- Nowadays, scripting everything on **Python** and, only when needed for performance, we speed up code with **Cython** or **Numba** (*top-down*). \n",
    "\n",
    "<center>\n",
    "<img src=\"imgs/two_approaches.png\" alt=\"numba\" width=\"400\"/>\n",
    "   \n",
    "##### \"For day-to-day scientific data exploration, speed-of-development is primary, and speed-of-execution is often secondary.\"\n",
    "    \n",
    "Jake Vanderplas.\n",
    "\n",
    "</center>"
   ]
  },
  {
   "cell_type": "markdown",
   "metadata": {
    "slideshow": {
     "slide_type": "slide"
    }
   },
   "source": [
    "## PyData stack\n",
    "\n",
    "<center>\n",
    "<img src=\"imgs/pydata-stack.png\" alt=\"pydata-stack\" width=\"900\"/>\n",
    "</center>\n",
    "\n",
    "https://www.coiled.io/blog/pydata-dask"
   ]
  },
  {
   "cell_type": "markdown",
   "metadata": {
    "slideshow": {
     "slide_type": "slide"
    }
   },
   "source": [
    "### Tools\n",
    "\n",
    "- [Numba](https://numba.pydata.org/numba-doc/latest/index.html)\n",
    "\n",
    "- [Dask](https://www.dask.org/)\n",
    "\n",
    "- [Dask-Image](https://image.dask.org/en/latest/)\n",
    "\n",
    "\n",
    "### Prepare your environment\n",
    "```console\n",
    "git clone https://github.com/joanrue/accel-large-image-proc-talk\n",
    "cd accel-large-image-proc-talk/\n",
    "pip install -r requirements.txt\n",
    "```\n"
   ]
  },
  {
   "cell_type": "markdown",
   "metadata": {
    "slideshow": {
     "slide_type": "slide"
    }
   },
   "source": [
    "# Motivating example\n",
    "\n",
    "<center>\n",
    "<img src=\"imgs/evolution-of-galaxies.jpg\" alt=\"evolution\" width=\"900\"/>\n",
    "   \n",
    "##### Credits NASA: https://www.nasa.gov/content/discoveries-hubbles-deep-fields    \n",
    "</center>"
   ]
  },
  {
   "cell_type": "markdown",
   "metadata": {
    "slideshow": {
     "slide_type": "notes"
    }
   },
   "source": [
    "\n",
    "To showcase the usefulness of `Numba` and `Dask`, we are going to use an example from astronomy, which involves the study of the origin of galaxies. \n",
    "\n",
    "For that, we are download (in the next Notebook) and use the ***Hubble Ultra Deep Field*** image,  acquired by the [Hubble Space Telescope](https://www.wikiwand.com/en/Hubble_Space_Telescope), which contains roughly 10,000 galaxies (from 13.3 billion years of time to just 500 million years after the universe's birth in the big bang).\n",
    "\n",
    "\"https://hubblesite.org/contents/media/images/2019/17/4493-Image.html?Type=Observations&Type=Photographs&Topic=106-universe\""
   ]
  }
 ],
 "metadata": {
  "celltoolbar": "Slideshow",
  "kernelspec": {
   "display_name": "Python 3 (ipykernel)",
   "language": "python",
   "name": "python3"
  },
  "language_info": {
   "codemirror_mode": {
    "name": "ipython",
    "version": 3
   },
   "file_extension": ".py",
   "mimetype": "text/x-python",
   "name": "python",
   "nbconvert_exporter": "python",
   "pygments_lexer": "ipython3",
   "version": "3.10.6"
  }
 },
 "nbformat": 4,
 "nbformat_minor": 4
}
