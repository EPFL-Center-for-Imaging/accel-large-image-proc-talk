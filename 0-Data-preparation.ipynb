{
 "cells": [
  {
   "cell_type": "code",
   "execution_count": null,
   "metadata": {},
   "outputs": [],
   "source": [
    "import os\n",
    "import time\n",
    "import urllib.request\n",
    "\n",
    "import numpy as np\n",
    "\n",
    "%load_ext memory_profiler"
   ]
  },
  {
   "cell_type": "markdown",
   "metadata": {},
   "source": [
    "### Download a big image and plot a part of it"
   ]
  },
  {
   "cell_type": "code",
   "execution_count": null,
   "metadata": {
    "scrolled": true
   },
   "outputs": [],
   "source": [
    "# Download image -- this can take a bit (approx. 100Mb)\n",
    "url = \"https://stsci-opo.org/STScI-01EVSZWCFZVP2R5ZRV7HEZAGP6.tif\"\n",
    "\n",
    "hubble_image = os.path.join(\"data\", \"hubble.tif\")\n",
    "urllib.request.urlretrieve(url, hubble_image)"
   ]
  },
  {
   "cell_type": "code",
   "execution_count": null,
   "metadata": {},
   "outputs": [],
   "source": [
    "# Load image and convert to float\n",
    "\n",
    "from skimage.io import imread\n",
    "from skimage.util import img_as_float\n",
    "\n",
    "img = img_as_float(imread(hubble_image))\n",
    "\n",
    "print(f\"The image has shape {img.shape}\")\n",
    "print(\n",
    "    f\"The full image has {np.prod(img.shape[:2]) / 1e6 : .0f} MPix, and occupies {img.nbytes / 1e9:.0f} Gb in RAM\"\n",
    ")"
   ]
  },
  {
   "cell_type": "code",
   "execution_count": null,
   "metadata": {},
   "outputs": [],
   "source": [
    "# Plot a small portion of the image\n",
    "import matplotlib.pyplot as plt\n",
    "\n",
    "plt.imshow(img[:1024, :1024]);"
   ]
  },
  {
   "cell_type": "markdown",
   "metadata": {},
   "source": [
    "### Apply a simple Gaussian filter\n",
    "\n",
    "Perform a smoothing of the image with the `gaussian_filter` from `scipy.ndimage.filters` library. \n",
    "\n",
    "1. Check how memory usage increases (i.e., you can use the command `htop` in your terminal).\n",
    "2. Check how long it takes to perform this operation (use the `%time` magic line). "
   ]
  },
  {
   "cell_type": "code",
   "execution_count": null,
   "metadata": {},
   "outputs": [],
   "source": [
    "import scipy.ndimage as snd\n",
    "\n",
    "%time result = snd.gaussian_filter(img, sigma=10)"
   ]
  },
  {
   "cell_type": "markdown",
   "metadata": {},
   "source": [
    "This takes really long time, and it occupies a lot of RAM"
   ]
  },
  {
   "cell_type": "markdown",
   "metadata": {},
   "source": [
    "## Let's crop it to be able to process it more efficiently later on. "
   ]
  },
  {
   "cell_type": "code",
   "execution_count": null,
   "metadata": {
    "scrolled": true
   },
   "outputs": [],
   "source": [
    "from pathlib import Path\n",
    "\n",
    "from utils import chunk_image\n",
    "\n",
    "# Crop/chunk size\n",
    "chunk_size = (256, 256, 3)\n",
    "\n",
    "# Save directory\n",
    "output_dir = os.path.join(\"imgs\", \"hubble\")\n",
    "Path(os.path.join(\"imgs\", \"hubble\")).mkdir(exist_ok=True)\n",
    "\n",
    "# Run cropping function\n",
    "chunk_image(img, chunk_size, output_dir)"
   ]
  },
  {
   "cell_type": "code",
   "execution_count": null,
   "metadata": {
    "scrolled": true,
    "slideshow": {
     "slide_type": "slide"
    }
   },
   "outputs": [],
   "source": [
    "from utils import show_images\n",
    "\n",
    "n_images = len(os.listdir(output_dir))\n",
    "\n",
    "# Read some example image-crops\n",
    "img1 = img_as_float(imread(os.path.join(output_dir, \"image-00-02-00.png\")))\n",
    "img2 = img_as_float(imread(os.path.join(output_dir, \"image-00-20-00.png\")))\n",
    "img3 = img_as_float(imread(os.path.join(output_dir, \"image-02-10-00.png\")))\n",
    "\n",
    "# Plot\n",
    "show_images(images=[img1, img2, img3], titles=\"Hubble Space\")\n",
    "\n",
    "print(f\"There are {n_images}.\")\n",
    "print(f\"Each image has shape {img1.shape}\")\n",
    "print(\n",
    "    f\"Each image has {np.prod(img1.shape[:2]) / 1e3 : .0f} KPix, and occupies {img1.nbytes / 1e6:.0f} Mb in RAM\"\n",
    ")"
   ]
  },
  {
   "cell_type": "markdown",
   "metadata": {},
   "source": [
    "### We can see different types of elements in the above images\n",
    "\n",
    "1. In the first image we see a star. \n",
    "\n",
    "2. In the second image we see a developed galaxy. \n",
    "\n",
    "3. In the last image we see two galaxies in their very early stages (in red). \n",
    "\n",
    "##### In the following notebooks we'll see how can we process these large images efficiently in parallel to get some interesting features out of them. "
   ]
  }
 ],
 "metadata": {
  "celltoolbar": "Slideshow",
  "kernelspec": {
   "display_name": "Python 3 (ipykernel)",
   "language": "python",
   "name": "python3"
  },
  "language_info": {
   "codemirror_mode": {
    "name": "ipython",
    "version": 3
   },
   "file_extension": ".py",
   "mimetype": "text/x-python",
   "name": "python",
   "nbconvert_exporter": "python",
   "pygments_lexer": "ipython3",
   "version": "3.11.5"
  }
 },
 "nbformat": 4,
 "nbformat_minor": 4
}
